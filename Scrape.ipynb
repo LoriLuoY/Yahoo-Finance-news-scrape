{
 "cells": [
  {
   "cell_type": "code",
   "execution_count": 3,
   "id": "3f6da5d8-ac9f-407a-a6ea-a09d7ba93712",
   "metadata": {},
   "outputs": [],
   "source": [
    "from selenium import webdriver\n",
    "from selenium.webdriver.chrome.service import Service\n",
    "from selenium.webdriver.common.by import By\n",
    "from selenium.webdriver.chrome.options import Options\n",
    "from bs4 import BeautifulSoup\n",
    "import time\n",
    "from selenium.webdriver.chrome.service import Service as ChromeService\n",
    "from selenium.webdriver.chrome.service import Service as ChromeService\n",
    "from webdriver_manager.chrome import ChromeDriverManager\n",
    "import sys\n",
    "from selenium.webdriver.support.ui import WebDriverWait\n",
    "from selenium.webdriver.support import expected_conditions as EC\n",
    "from selenium.webdriver.common.by import By\n",
    "from selenium.common import TimeoutException"
   ]
  },
  {
   "cell_type": "markdown",
   "id": "1e0f1a29-3a90-4b55-bd92-4e990cc9fa1b",
   "metadata": {},
   "source": [
    "## Before using this, please download the Chrome driver based on the version of your Chrome (see their website). This code is searching the press release news (title) of the company on yahoo finance.  (download link: https://developer.chrome.com/docs/chromedriver/downloads)"
   ]
  },
  {
   "cell_type": "markdown",
   "id": "709a8725-f93c-4dd5-8669-f32b30e6e3ee",
   "metadata": {},
   "source": [
    "#### Run code below to check whether the Chrome driver works. If it works, the Chrome will open automatically, and click accept by itself."
   ]
  },
  {
   "cell_type": "code",
   "execution_count": 8,
   "id": "bd351a4a-860f-45fc-aff2-899e5d8b6521",
   "metadata": {},
   "outputs": [],
   "source": [
    "ticker_symbol = sys.argv[1]\n",
    "\n",
    "driver = webdriver.Chrome()\n",
    "url=\"https://finance.yahoo.com/quote/SAN/press-releases/\"\n",
    "driver.get(url)\n",
    "\n",
    "from selenium.webdriver.support.ui import WebDriverWait\n",
    "from selenium.webdriver.support import expected_conditions as EC\n",
    "from selenium.webdriver.common.by import By\n",
    "from selenium.common import TimeoutException\n",
    "try:\n",
    "    # wait up to 3 seconds for the consent modal to show up\n",
    "    consent_overlay = WebDriverWait(driver, 3).until(\n",
    "        EC.presence_of_element_located((By.CSS_SELECTOR, '.consent-overlay')))\n",
    "\n",
    "    # click the \"Accept all\" button\n",
    "    accept_all_button = consent_overlay.find_element(By.CSS_SELECTOR, '.accept-all')\n",
    "    accept_all_button.click()\n",
    "except TimeoutException:\n",
    "    print('Cookie consent overlay missing')\n",
    "driver.quit()"
   ]
  },
  {
   "cell_type": "markdown",
   "id": "3561ad7f-ae81-4d01-b5f7-14f0da663e18",
   "metadata": {},
   "source": [
    "#### This is the code for scraping the title of press release news by stock ticker"
   ]
  },
  {
   "cell_type": "code",
   "execution_count": 9,
   "id": "1980608b-bcd1-407f-a38c-90ce51557012",
   "metadata": {},
   "outputs": [
    {
     "name": "stdout",
     "output_type": "stream",
     "text": [
      "['Apple The Exchange TRX to welcome its first customers this Saturday, June 22, in Kuala Lumpur', 'Apple extends its privacy leadership with new updates across its platforms', 'Apple empowers developers and fuels innovation with new tools and resources', 'watchOS 11 brings powerful health and fitness insights, and even more personalization and connectivity', 'iOS 18 makes iPhone more personal, capable, and intelligent than ever', 'iPadOS 18 introduces powerful new intelligence features and apps designed for Apple Pencil', 'Introducing Apple Intelligence, the personal intelligence system that puts powerful generative models at the core of iPhone, iPad, and Mac', 'visionOS 2 brings new spatial computing experiences to Apple Vision Pro', 'macOS Sequoia takes productivity and intelligence on Mac to new heights', 'Updates to the Home experience elevate entertainment and bring more convenience', 'Apple Vision Pro arrives in new countries and regions beginning June 28', 'Apple and Île-de-France Mobilités introduce Navigo card for iPhone and Apple Watch', 'Apple announces new accessibility features, including Eye Tracking, Music Haptics, and Vocal Shortcuts', 'Apple Music celebrates the greatest records ever made with the launch of inaugural 100 Best Albums list', 'Apple introduces M4 chip', 'Apple unveils stunning new iPad Pro with the world’s most advanced display, M4 chip, and Apple Pencil Pro', 'Final Cut Pro transforms video creation with Live Multicam on iPad and new AI features on Mac', 'Logic Pro takes music-making to the next level with new AI features', 'Apple unveils the redesigned 11-inch and all-new 13-inch iPad Air, supercharged by the M2 chip', 'Summary Notice of Pendency and Proposed Settlement of Shareholder Derivative Actions']\n"
     ]
    }
   ],
   "source": [
    "def title_yf(ticker):\n",
    "    # Setup headless Chrome\n",
    "    options = Options()\n",
    "    options.add_argument('--headless=new')\n",
    "\n",
    "    driver = webdriver.Chrome(\n",
    "        service=ChromeService(),\n",
    "        options=options\n",
    "    )\n",
    "\n",
    "    url = f\"https://finance.yahoo.com/quote/{ticker}/press-releases/\" #could change to other url\n",
    "    driver.get(url)\n",
    "\n",
    "    try:\n",
    "        # wait up to 3 seconds for the consent modal to show up\n",
    "        consent_overlay = WebDriverWait(driver, 3).until(\n",
    "            EC.presence_of_element_located((By.CSS_SELECTOR, '.consent-overlay'))\n",
    "        )\n",
    "        accept_all_button = consent_overlay.find_element(By.CSS_SELECTOR, '.accept-all')\n",
    "        accept_all_button.click()\n",
    "    except TimeoutException:\n",
    "        print('Cookie consent overlay missing')\n",
    "    # Get html\n",
    "    html = driver.page_source\n",
    "    soup = BeautifulSoup(html, 'html.parser')\n",
    "    news_items = soup.find_all('h3', {'class': 'clamp svelte-w27v8j'})\n",
    "    # Extract press release titles\n",
    "    titles = [item.get_text() for item in news_items]\n",
    "    print(titles)\n",
    "    driver.quit()\n",
    "\n",
    "      \n",
    "# Example usage\n",
    "title_yf(\"AAPL\")"
   ]
  },
  {
   "cell_type": "code",
   "execution_count": 12,
   "id": "5baf67fe-049c-402d-8903-6bfe0d671ed8",
   "metadata": {},
   "outputs": [
    {
     "name": "stdout",
     "output_type": "stream",
     "text": [
      "['Cellebrite Announces Availability of Industry-Leading Endpoint Inspector SaaS Solution on Amazon Web Services Marketplace', 'Amazon’s 10th Prime Day Event Returns July 16 & 17, With Millions of Exclusive Deals for Prime Members', 'Amazon Business Introduces New Technologies to Save Time and Reduce Costs for Business Customers', 'Introducing Blink Moments — An Engaging New Viewing Experience That Stitches Together Multiple Blink Camera Clips Into One Seamless Video', 'James by Percival Everett is the Amazon Best Book of 2024 So Far', 'National Safety Council Marks MSD Pledge Anniversary by Surpassing 200 Signatories and Awarding Nearly $265,000 in Grants to Solve the Most Common Workplace Injury', 'AWS Announces $230 Million Commitment for Generative AI Startups', 'Vrio to Offer Project Kuiper Satellite Broadband in 7 South American Countries to Help Bridge the Digital Divide', 'AWS to Launch an Infrastructure Region in Taiwan', 'National Safety Council Releases New Report on Diversity, Equity and Inclusion and Workplace Injury Prevention', 'Amazon Games Reveals New World: Aeternum, Releasing October 15 on PlayStation 5, Xbox Series X|S, and PC', 'Swift Navigation Runs Its ISO 26262 Certified Skylark Precise Positioning Service on AWS', 'Amazon Announces Grubhub+ as Ongoing Prime Member Offer; Customers Can Now Order Grubhub Directly from Amazon.com and the Amazon Shopping App', 'AWS and SAP Unlock New Innovation with Generative AI', 'Amazon Opens New Robotics Fulfilment Centre in Calgary, Alberta', 'CrowdStrike and AWS Extend Strategic Partnership to Accelerate Cloud Security and AI Innovation', 'Amazon Business Celebrates Third Annual Small Business Month with New Immersive Educational Hub and Over $250,000 in Grants', 'Amazon.com Announces First Quarter Results', 'AWS Announces General Availability of Amazon Q, the Most Capable Generative AI-Powered Assistant for Accelerating Software Development and Leveraging Companies’ Internal Data', 'Prime Video to Become the Home of National Monday Night NHL Games in Canada Beginning in 2024-25 Season, with Prime Monday Night Hockey']\n"
     ]
    }
   ],
   "source": [
    "title_yf(\"AMZN\")"
   ]
  },
  {
   "cell_type": "code",
   "execution_count": null,
   "id": "e8a7eb8b-4175-4e78-b544-b5693f248904",
   "metadata": {},
   "outputs": [],
   "source": []
  }
 ],
 "metadata": {
  "kernelspec": {
   "display_name": "Python 3 (ipykernel)",
   "language": "python",
   "name": "python3"
  },
  "language_info": {
   "codemirror_mode": {
    "name": "ipython",
    "version": 3
   },
   "file_extension": ".py",
   "mimetype": "text/x-python",
   "name": "python",
   "nbconvert_exporter": "python",
   "pygments_lexer": "ipython3",
   "version": "3.9.18"
  }
 },
 "nbformat": 4,
 "nbformat_minor": 5
}
